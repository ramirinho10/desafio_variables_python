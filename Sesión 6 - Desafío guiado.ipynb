{
 "cells": [
  {
   "cell_type": "markdown",
   "id": "8429edf4",
   "metadata": {},
   "source": [
    "<h1 style=\"text-align: center;\">Desafío - Variables</h1>\n",
    "\n",
    "- Para realizar este desafío debes haber estudiado previamente todo el material disponible correspondiente a la unidad.\n",
    "- Una vez terminado el desafío, comprime la carpeta que contiene el desarrollo de los requerimientos solicitados y sube el .zip en el LMS.\n",
    "- Desarrollo del desafío: individual\n",
    "- Para la realización del desafío necesitarás apoyarte del archivo `Apoyo Desafío - Variables.zip`, disponible en la <a href=\"https://empieza.desafiolatam.com/cohorts/2091/sections/78273/activities/119101/items/610817\">plataforma</a>."
   ]
  },
  {
   "cell_type": "markdown",
   "id": "6beeff45",
   "metadata": {},
   "source": [
    "## Habilidades a evaluar\n",
    "- Hacer uso de métodos de `pandas` para segmentar columnas y filas.\n",
    "- Hacer uso de los métodos `iterrows` e `iteritems` para implementar loops en `pandas`.\n",
    "- Implementar `enumerate` en loops.\n",
    "- Conocer las principales convenciones en la visualización de resultados en histogramas, gráficos de punto y barras.\n",
    "- Generar simulaciones de la distribución normal.\n",
    "- Conocer las principales aplicaciones de las distribuciones.\n",
    "- Calcular e interpretar puntajes z."
   ]
  },
  {
   "cell_type": "markdown",
   "id": "9c782f9b",
   "metadata": {},
   "source": [
    "## Descripción\n",
    "- La empresa en la cual usted trabaja tiene como solicitud el análisis del Índice de Desarrollo Humano (IDH) de diversos países para elaborar un informe para el Ministerio de Relaciones Exteriores, a fin de poder contar con la data necesaria para poder comenzar a trabajar en relaciones diplomáticas más estrechas con diversos países. Para ello, usted queda a cargo de poder revisar la base de datos \"Quality of Government\", de la Universidad de Gotemburgo.\n",
    "\n",
    "- Las unidades de medición en esta base corresponden a **194 países**, recolectando los últimos datos de enero del 2018. Además, se le recuerda que la base de datos es un compendio de alrededor de 1900 variables, que miden las causas y consecuencias de un buen gobierno en materias económicas, salud pública, medio ambiente, salud institucional, corrupción, entre otras."
   ]
  },
  {
   "cell_type": "markdown",
   "id": "af930026",
   "metadata": {},
   "source": [
    "## Requerimientos\n",
    "A continuación, revisaremos los requerimientos y acciones que el Ministerio de RREE te pide realizar.\n",
    "\n",
    "### 1. Genere una muestra de casos (1 punto). Para ello debes considerar:\n",
    "\n",
    "- Utilice los últimos 4 dígitos de su rut como semilla pseudoaleatoria.\n",
    "- Seleccione el 50% de los casos.\n",
    "- Cada base generada debe contener los siguientes elementos:\n",
    "    - El índice de desarrollo humano (`undp_hdi`).\n",
    "    - El nombre del país (`ccodealp`).\n",
    "    - La región a la que pertenece (`ht_region`).\n",
    "    - El PIB per cápita. (`gle_cgdpc`).\n",
    "    - El total de la población (`imf_pop`).\n",
    "    \n",
    "- Si su **apellido está entre la A y la M**, escoja las siguientes variables del módulo **Educación**:\n",
    "    - `ffp_hf`: Human Flight and Brain Drain.\n",
    "    - `wef_qes`: Quality of the educational system.\n",
    "    - `wdi_expedu`: Government expenditure on education, total (% of GDP).\n",
    "    - `wdi_ners`: School enrollment, secondary (% net).\n",
    "\n",
    "- Si su **apellido está entre la N y la Z**, escoja las siguientes variables del módulo **Salud**:\n",
    "    - `wef_imort`: Infant mortality, deaths/1000 live births.\n",
    "    - `who_alc2000`: Alcohol consumption per capita (2000-).\n",
    "    - `who_tobt`: Current smoking of any tobacco product (Total).\n",
    "    - `wdi_exph`: Government expenditure on health, total (% of GDP).\n",
    "\n",
    "- Guarde esta tabla procesada en un nuevo objeto.\n",
    "- Renombre las categorías de la variable `ht_region` de números a nombres de regiones, según la siguiente recodificación:\n",
    "\n",
    "<table>\n",
    "  <tr>\n",
    "    <th>Código Región</th>\n",
    "    <th>Nombre Región</th>\n",
    "  </tr>\n",
    "  <tr>\n",
    "    <td>1</td>\n",
    "    <td>EastEurope</td>\n",
    "  </tr>\n",
    "  <tr>\n",
    "    <td>2</td>\n",
    "    <td>LatAm</td>\n",
    "  </tr>\n",
    "  <tr>\n",
    "    <td>3</td>\n",
    "    <td>NorthAfrica</td>\n",
    "  </tr>\n",
    "  <tr>\n",
    "    <td>4</td>\n",
    "    <td>SubSaharian</td>\n",
    "  </tr>\n",
    "  <tr>\n",
    "    <td>5</td>\n",
    "    <td>WesternDem</td>\n",
    "  </tr>\n",
    "  <tr>\n",
    "    <td>6</td>\n",
    "    <td>EastAsia</td>\n",
    "  </tr>\n",
    "  <tr>\n",
    "    <td>7</td>\n",
    "    <td>SouthEastAsia</td>\n",
    "  </tr>\n",
    "  <tr>\n",
    "    <td>8</td>\n",
    "    <td>SouthAsia</td>\n",
    "  </tr>\n",
    "  <tr>\n",
    "    <td>9</td>\n",
    "    <td>Pacific</td>\n",
    "  </tr>\n",
    "  <tr>\n",
    "    <td>10</td>\n",
    "    <td>Caribbean</td>\n",
    "  </tr>\n",
    "</table>"
   ]
  },
  {
   "cell_type": "code",
   "execution_count": 4,
   "id": "ac9efa66",
   "metadata": {},
   "outputs": [
    {
     "data": {
      "text/html": [
       "<div>\n",
       "<style scoped>\n",
       "    .dataframe tbody tr th:only-of-type {\n",
       "        vertical-align: middle;\n",
       "    }\n",
       "\n",
       "    .dataframe tbody tr th {\n",
       "        vertical-align: top;\n",
       "    }\n",
       "\n",
       "    .dataframe thead th {\n",
       "        text-align: right;\n",
       "    }\n",
       "</style>\n",
       "<table border=\"1\" class=\"dataframe\">\n",
       "  <thead>\n",
       "    <tr style=\"text-align: right;\">\n",
       "      <th></th>\n",
       "      <th>ccode</th>\n",
       "      <th>cname</th>\n",
       "      <th>ccodealp</th>\n",
       "      <th>ccodecow</th>\n",
       "      <th>ccodewb</th>\n",
       "      <th>version</th>\n",
       "      <th>aid_cpnc</th>\n",
       "      <th>aid_cpsc</th>\n",
       "      <th>aid_crnc</th>\n",
       "      <th>aid_crnio</th>\n",
       "      <th>...</th>\n",
       "      <th>wvs_relacc</th>\n",
       "      <th>wvs_relsch</th>\n",
       "      <th>wvs_relsci</th>\n",
       "      <th>wvs_satfin</th>\n",
       "      <th>wvs_satlif</th>\n",
       "      <th>wvs_screl</th>\n",
       "      <th>wvs_subh</th>\n",
       "      <th>wvs_survself</th>\n",
       "      <th>wvs_tradrat</th>\n",
       "      <th>wvs_trust</th>\n",
       "    </tr>\n",
       "  </thead>\n",
       "  <tbody>\n",
       "    <tr>\n",
       "      <th>0</th>\n",
       "      <td>4</td>\n",
       "      <td>Afghanistan</td>\n",
       "      <td>AFG</td>\n",
       "      <td>700.0</td>\n",
       "      <td>4.0</td>\n",
       "      <td>QoGStdCSJan18</td>\n",
       "      <td>NaN</td>\n",
       "      <td>NaN</td>\n",
       "      <td>29.0</td>\n",
       "      <td>13.0</td>\n",
       "      <td>...</td>\n",
       "      <td>NaN</td>\n",
       "      <td>NaN</td>\n",
       "      <td>NaN</td>\n",
       "      <td>NaN</td>\n",
       "      <td>NaN</td>\n",
       "      <td>NaN</td>\n",
       "      <td>NaN</td>\n",
       "      <td>NaN</td>\n",
       "      <td>NaN</td>\n",
       "      <td>NaN</td>\n",
       "    </tr>\n",
       "    <tr>\n",
       "      <th>1</th>\n",
       "      <td>8</td>\n",
       "      <td>Albania</td>\n",
       "      <td>ALB</td>\n",
       "      <td>339.0</td>\n",
       "      <td>8.0</td>\n",
       "      <td>QoGStdCSJan18</td>\n",
       "      <td>NaN</td>\n",
       "      <td>NaN</td>\n",
       "      <td>26.0</td>\n",
       "      <td>13.0</td>\n",
       "      <td>...</td>\n",
       "      <td>NaN</td>\n",
       "      <td>NaN</td>\n",
       "      <td>NaN</td>\n",
       "      <td>NaN</td>\n",
       "      <td>NaN</td>\n",
       "      <td>NaN</td>\n",
       "      <td>NaN</td>\n",
       "      <td>NaN</td>\n",
       "      <td>NaN</td>\n",
       "      <td>NaN</td>\n",
       "    </tr>\n",
       "    <tr>\n",
       "      <th>2</th>\n",
       "      <td>12</td>\n",
       "      <td>Algeria</td>\n",
       "      <td>DZA</td>\n",
       "      <td>615.0</td>\n",
       "      <td>12.0</td>\n",
       "      <td>QoGStdCSJan18</td>\n",
       "      <td>NaN</td>\n",
       "      <td>NaN</td>\n",
       "      <td>21.0</td>\n",
       "      <td>6.0</td>\n",
       "      <td>...</td>\n",
       "      <td>3.710616</td>\n",
       "      <td>1.704692</td>\n",
       "      <td>3.681347</td>\n",
       "      <td>5.988125</td>\n",
       "      <td>6.301029</td>\n",
       "      <td>5.339371</td>\n",
       "      <td>3.805579</td>\n",
       "      <td>-0.409807</td>\n",
       "      <td>-0.498164</td>\n",
       "      <td>0.179286</td>\n",
       "    </tr>\n",
       "    <tr>\n",
       "      <th>3</th>\n",
       "      <td>20</td>\n",
       "      <td>Andorra</td>\n",
       "      <td>AND</td>\n",
       "      <td>232.0</td>\n",
       "      <td>20.0</td>\n",
       "      <td>QoGStdCSJan18</td>\n",
       "      <td>NaN</td>\n",
       "      <td>NaN</td>\n",
       "      <td>NaN</td>\n",
       "      <td>NaN</td>\n",
       "      <td>...</td>\n",
       "      <td>NaN</td>\n",
       "      <td>NaN</td>\n",
       "      <td>NaN</td>\n",
       "      <td>NaN</td>\n",
       "      <td>NaN</td>\n",
       "      <td>NaN</td>\n",
       "      <td>NaN</td>\n",
       "      <td>NaN</td>\n",
       "      <td>NaN</td>\n",
       "      <td>NaN</td>\n",
       "    </tr>\n",
       "    <tr>\n",
       "      <th>4</th>\n",
       "      <td>24</td>\n",
       "      <td>Angola</td>\n",
       "      <td>AGO</td>\n",
       "      <td>540.0</td>\n",
       "      <td>24.0</td>\n",
       "      <td>QoGStdCSJan18</td>\n",
       "      <td>NaN</td>\n",
       "      <td>NaN</td>\n",
       "      <td>22.0</td>\n",
       "      <td>13.0</td>\n",
       "      <td>...</td>\n",
       "      <td>NaN</td>\n",
       "      <td>NaN</td>\n",
       "      <td>NaN</td>\n",
       "      <td>NaN</td>\n",
       "      <td>NaN</td>\n",
       "      <td>NaN</td>\n",
       "      <td>NaN</td>\n",
       "      <td>NaN</td>\n",
       "      <td>NaN</td>\n",
       "      <td>NaN</td>\n",
       "    </tr>\n",
       "  </tbody>\n",
       "</table>\n",
       "<p>5 rows × 1882 columns</p>\n",
       "</div>"
      ],
      "text/plain": [
       "   ccode        cname ccodealp  ccodecow  ccodewb        version  aid_cpnc  \\\n",
       "0      4  Afghanistan      AFG     700.0      4.0  QoGStdCSJan18       NaN   \n",
       "1      8      Albania      ALB     339.0      8.0  QoGStdCSJan18       NaN   \n",
       "2     12      Algeria      DZA     615.0     12.0  QoGStdCSJan18       NaN   \n",
       "3     20      Andorra      AND     232.0     20.0  QoGStdCSJan18       NaN   \n",
       "4     24       Angola      AGO     540.0     24.0  QoGStdCSJan18       NaN   \n",
       "\n",
       "   aid_cpsc  aid_crnc  aid_crnio  ...  wvs_relacc  wvs_relsch  wvs_relsci  \\\n",
       "0       NaN      29.0       13.0  ...         NaN         NaN         NaN   \n",
       "1       NaN      26.0       13.0  ...         NaN         NaN         NaN   \n",
       "2       NaN      21.0        6.0  ...    3.710616    1.704692    3.681347   \n",
       "3       NaN       NaN        NaN  ...         NaN         NaN         NaN   \n",
       "4       NaN      22.0       13.0  ...         NaN         NaN         NaN   \n",
       "\n",
       "   wvs_satfin  wvs_satlif  wvs_screl  wvs_subh  wvs_survself  wvs_tradrat  \\\n",
       "0         NaN         NaN        NaN       NaN           NaN          NaN   \n",
       "1         NaN         NaN        NaN       NaN           NaN          NaN   \n",
       "2    5.988125    6.301029   5.339371  3.805579     -0.409807    -0.498164   \n",
       "3         NaN         NaN        NaN       NaN           NaN          NaN   \n",
       "4         NaN         NaN        NaN       NaN           NaN          NaN   \n",
       "\n",
       "   wvs_trust  \n",
       "0        NaN  \n",
       "1        NaN  \n",
       "2   0.179286  \n",
       "3        NaN  \n",
       "4        NaN  \n",
       "\n",
       "[5 rows x 1882 columns]"
      ]
     },
     "execution_count": 4,
     "metadata": {},
     "output_type": "execute_result"
    }
   ],
   "source": [
    "# Utilice esta celda para importar los módulos necesarios e instanciar el DataFrame con los datos requeridos\n",
    "import pandas as pd\n",
    "import numpy as np\n",
    "\n",
    "df = pd.read_csv(\"qog_std_cs_jan18.csv\")\n",
    "\n",
    "df.head(5)"
   ]
  },
  {
   "cell_type": "code",
   "execution_count": 50,
   "id": "77d2405d",
   "metadata": {},
   "outputs": [
    {
     "data": {
      "text/html": [
       "<div>\n",
       "<style scoped>\n",
       "    .dataframe tbody tr th:only-of-type {\n",
       "        vertical-align: middle;\n",
       "    }\n",
       "\n",
       "    .dataframe tbody tr th {\n",
       "        vertical-align: top;\n",
       "    }\n",
       "\n",
       "    .dataframe thead th {\n",
       "        text-align: right;\n",
       "    }\n",
       "</style>\n",
       "<table border=\"1\" class=\"dataframe\">\n",
       "  <thead>\n",
       "    <tr style=\"text-align: right;\">\n",
       "      <th></th>\n",
       "      <th>undp_hdi</th>\n",
       "      <th>ccodealp</th>\n",
       "      <th>ht_region</th>\n",
       "      <th>gle_cgdpc</th>\n",
       "      <th>imf_pop</th>\n",
       "      <th>wef_imort</th>\n",
       "      <th>who_alc2000</th>\n",
       "      <th>who_tobt</th>\n",
       "      <th>wdi_exph</th>\n",
       "      <th>cname</th>\n",
       "    </tr>\n",
       "  </thead>\n",
       "  <tbody>\n",
       "    <tr>\n",
       "      <th>95</th>\n",
       "      <td>0.495</td>\n",
       "      <td>LSO</td>\n",
       "      <td>4</td>\n",
       "      <td>1539.79000</td>\n",
       "      <td>NaN</td>\n",
       "      <td>74.199997</td>\n",
       "      <td>2.39</td>\n",
       "      <td>25.400000</td>\n",
       "      <td>10.617677</td>\n",
       "      <td>Lesotho</td>\n",
       "    </tr>\n",
       "    <tr>\n",
       "      <th>10</th>\n",
       "      <td>0.790</td>\n",
       "      <td>BHS</td>\n",
       "      <td>10</td>\n",
       "      <td>21672.02900</td>\n",
       "      <td>0.356</td>\n",
       "      <td>NaN</td>\n",
       "      <td>9.45</td>\n",
       "      <td>NaN</td>\n",
       "      <td>7.742365</td>\n",
       "      <td>Bahamas</td>\n",
       "    </tr>\n",
       "    <tr>\n",
       "      <th>5</th>\n",
       "      <td>0.784</td>\n",
       "      <td>ATG</td>\n",
       "      <td>10</td>\n",
       "      <td>12257.71000</td>\n",
       "      <td>NaN</td>\n",
       "      <td>NaN</td>\n",
       "      <td>8.56</td>\n",
       "      <td>NaN</td>\n",
       "      <td>5.541683</td>\n",
       "      <td>Antigua and Barbuda</td>\n",
       "    </tr>\n",
       "    <tr>\n",
       "      <th>59</th>\n",
       "      <td>0.894</td>\n",
       "      <td>FRA</td>\n",
       "      <td>5</td>\n",
       "      <td>34007.89800</td>\n",
       "      <td>64.028</td>\n",
       "      <td>3.400000</td>\n",
       "      <td>11.50</td>\n",
       "      <td>28.100000</td>\n",
       "      <td>11.539519</td>\n",
       "      <td>France (1963-)</td>\n",
       "    </tr>\n",
       "    <tr>\n",
       "      <th>116</th>\n",
       "      <td>0.414</td>\n",
       "      <td>MOZ</td>\n",
       "      <td>4</td>\n",
       "      <td>852.39001</td>\n",
       "      <td>25.733</td>\n",
       "      <td>63.099998</td>\n",
       "      <td>1.16</td>\n",
       "      <td>18.799999</td>\n",
       "      <td>6.975582</td>\n",
       "      <td>Mozambique</td>\n",
       "    </tr>\n",
       "  </tbody>\n",
       "</table>\n",
       "</div>"
      ],
      "text/plain": [
       "     undp_hdi ccodealp  ht_region    gle_cgdpc  imf_pop  wef_imort  \\\n",
       "95      0.495      LSO          4   1539.79000      NaN  74.199997   \n",
       "10      0.790      BHS         10  21672.02900    0.356        NaN   \n",
       "5       0.784      ATG         10  12257.71000      NaN        NaN   \n",
       "59      0.894      FRA          5  34007.89800   64.028   3.400000   \n",
       "116     0.414      MOZ          4    852.39001   25.733  63.099998   \n",
       "\n",
       "     who_alc2000   who_tobt   wdi_exph                cname  \n",
       "95          2.39  25.400000  10.617677              Lesotho  \n",
       "10          9.45        NaN   7.742365              Bahamas  \n",
       "5           8.56        NaN   5.541683  Antigua and Barbuda  \n",
       "59         11.50  28.100000  11.539519       France (1963-)  \n",
       "116         1.16  18.799999   6.975582           Mozambique  "
      ]
     },
     "execution_count": 50,
     "metadata": {},
     "output_type": "execute_result"
    }
   ],
   "source": [
    "# Utilice esta celda para hacer la selección de datos solicitada y almacenar en nueva variable\n",
    "#Creamos un nuevo df, para seleccionar las columnas utilizamos doble corchete\n",
    "\n",
    "df_sel = df.sample(frac = 0.5, random_state=10)[\n",
    "    ['undp_hdi', 'ccodealp', 'ht_region', 'gle_cgdpc', 'imf_pop', 'wef_imort', 'who_alc2000', 'who_tobt', 'wdi_exph', 'cname']\n",
    "]\n",
    "\n",
    "df_sel.head()"
   ]
  },
  {
   "cell_type": "code",
   "execution_count": 51,
   "id": "c1c8db09",
   "metadata": {},
   "outputs": [
    {
     "data": {
      "text/plain": [
       "SubSaharian      27\n",
       "WesternDem       14\n",
       "LatAm            13\n",
       "Caribbean        10\n",
       "NorthAfrica      10\n",
       "EastEurope       10\n",
       "Pacific           4\n",
       "SouthAsia         4\n",
       "SouthEastAsia     4\n",
       "EastAsia          1\n",
       "Name: ht_region, dtype: int64"
      ]
     },
     "execution_count": 51,
     "metadata": {},
     "output_type": "execute_result"
    }
   ],
   "source": [
    "# Utilice esta celda para realizar la recodificación de las regiones\n",
    "#En la columna reemplazamos los valores\n",
    "\n",
    "df_sel[\"ht_region\"] = df[\"ht_region\"].replace(\n",
    "    [1,2,3,4,5,6,7,8,9,10],\n",
    "    ['EastEurope', 'LatAm', 'NorthAfrica', 'SubSaharian', 'WesternDem', 'EastAsia', 'SouthEastAsia', 'SouthAsia', 'Pacific', 'Caribbean']\n",
    ")\n",
    "\n",
    "df_sel[\"ht_region\"].value_counts()\n"
   ]
  },
  {
   "cell_type": "markdown",
   "id": "18f47eb1",
   "metadata": {},
   "source": [
    "### 2. Genere una función que ingrese su objeto y devuelva lo siguiente (2 puntos):\n",
    "- Por cada variable existente en su objeto, calcule las medidas descriptivas para los casos continuos.\n",
    "- Para cada variable discreta, que calcule la frecuencia.\n",
    "- Reporte las estadísticas descriptivas para `gle_cgdpc`, `undp_hdi`, `imf_pop`.\n"
   ]
  },
  {
   "cell_type": "code",
   "execution_count": 52,
   "id": "8eeabdd3",
   "metadata": {},
   "outputs": [],
   "source": [
    "# Utilice esta celda para definir la función\n",
    "# Tips: categoricas = data[columns].describe(include=[object]); numericas = data[columns].describe(include=[np.number])\n",
    "\n",
    "def fetch_descriptives(data: pd.DataFrame, columnas: list):\n",
    "    categoricas = None\n",
    "    numericas = None\n",
    "    \n",
    "    try:\n",
    "        categoricas = data[columnas].describe(include = [object])\n",
    "    except Exception as e:\n",
    "        print(e)\n",
    "    \n",
    "    try:\n",
    "        numericas = data[columnas].describe(include = [np.number])\n",
    "    except Exception as e:\n",
    "        print(e)\n",
    "        \n",
    "        \n",
    "    return categoricas, numericas"
   ]
  },
  {
   "cell_type": "code",
   "execution_count": 53,
   "id": "0042f0a1",
   "metadata": {},
   "outputs": [
    {
     "name": "stdout",
     "output_type": "stream",
     "text": [
      "No objects to concatenate\n"
     ]
    }
   ],
   "source": [
    "# Utilice esta celda para realizar el llamado en las 3 variables solicitadas, puede ser en un loop y usando prints\n",
    "import numpy as np\n",
    "\n",
    "cat, num = fetch_descriptives(df_sel, ['gle_cgdpc', 'undp_hdi', 'imf_pop'])"
   ]
  },
  {
   "cell_type": "code",
   "execution_count": 54,
   "id": "23ff784e",
   "metadata": {},
   "outputs": [],
   "source": [
    "cat"
   ]
  },
  {
   "cell_type": "code",
   "execution_count": 55,
   "id": "06613d6b",
   "metadata": {},
   "outputs": [
    {
     "data": {
      "text/html": [
       "<div>\n",
       "<style scoped>\n",
       "    .dataframe tbody tr th:only-of-type {\n",
       "        vertical-align: middle;\n",
       "    }\n",
       "\n",
       "    .dataframe tbody tr th {\n",
       "        vertical-align: top;\n",
       "    }\n",
       "\n",
       "    .dataframe thead th {\n",
       "        text-align: right;\n",
       "    }\n",
       "</style>\n",
       "<table border=\"1\" class=\"dataframe\">\n",
       "  <thead>\n",
       "    <tr style=\"text-align: right;\">\n",
       "      <th></th>\n",
       "      <th>gle_cgdpc</th>\n",
       "      <th>undp_hdi</th>\n",
       "      <th>imf_pop</th>\n",
       "    </tr>\n",
       "  </thead>\n",
       "  <tbody>\n",
       "    <tr>\n",
       "      <th>count</th>\n",
       "      <td>97.000000</td>\n",
       "      <td>93.000000</td>\n",
       "      <td>68.000000</td>\n",
       "    </tr>\n",
       "    <tr>\n",
       "      <th>mean</th>\n",
       "      <td>15509.761373</td>\n",
       "      <td>0.691505</td>\n",
       "      <td>25.593471</td>\n",
       "    </tr>\n",
       "    <tr>\n",
       "      <th>std</th>\n",
       "      <td>19528.486559</td>\n",
       "      <td>0.159842</td>\n",
       "      <td>41.687245</td>\n",
       "    </tr>\n",
       "    <tr>\n",
       "      <th>min</th>\n",
       "      <td>324.160000</td>\n",
       "      <td>0.347000</td>\n",
       "      <td>0.011000</td>\n",
       "    </tr>\n",
       "    <tr>\n",
       "      <th>25%</th>\n",
       "      <td>2685.500000</td>\n",
       "      <td>0.548000</td>\n",
       "      <td>1.222250</td>\n",
       "    </tr>\n",
       "    <tr>\n",
       "      <th>50%</th>\n",
       "      <td>9610.599600</td>\n",
       "      <td>0.724000</td>\n",
       "      <td>7.184500</td>\n",
       "    </tr>\n",
       "    <tr>\n",
       "      <th>75%</th>\n",
       "      <td>19768.039000</td>\n",
       "      <td>0.804000</td>\n",
       "      <td>32.477500</td>\n",
       "    </tr>\n",
       "    <tr>\n",
       "      <th>max</th>\n",
       "      <td>108481.130000</td>\n",
       "      <td>0.924000</td>\n",
       "      <td>202.768997</td>\n",
       "    </tr>\n",
       "  </tbody>\n",
       "</table>\n",
       "</div>"
      ],
      "text/plain": [
       "           gle_cgdpc   undp_hdi     imf_pop\n",
       "count      97.000000  93.000000   68.000000\n",
       "mean    15509.761373   0.691505   25.593471\n",
       "std     19528.486559   0.159842   41.687245\n",
       "min       324.160000   0.347000    0.011000\n",
       "25%      2685.500000   0.548000    1.222250\n",
       "50%      9610.599600   0.724000    7.184500\n",
       "75%     19768.039000   0.804000   32.477500\n",
       "max    108481.130000   0.924000  202.768997"
      ]
     },
     "execution_count": 55,
     "metadata": {},
     "output_type": "execute_result"
    }
   ],
   "source": [
    "num"
   ]
  },
  {
   "cell_type": "markdown",
   "id": "3c44becb",
   "metadata": {},
   "source": [
    "**Compare las estadísticas con algún compañero. ¿Ve alguna diferencia sustancial en alguna de ellas?**\n",
    "\n",
    "**Respuesta:** Si, se ven diferencias sobre todo en el count ya que al utilizar df[\"columna\"].isna().sum() se aprecia \n",
    "que hay datos nulos, por lo cual va generar una diferencia a la hora de calcular los estadisticos. "
   ]
  },
  {
   "cell_type": "code",
   "execution_count": 56,
   "id": "32c59dc4",
   "metadata": {},
   "outputs": [
    {
     "data": {
      "text/plain": [
       "29"
      ]
     },
     "execution_count": 56,
     "metadata": {},
     "output_type": "execute_result"
    }
   ],
   "source": [
    "df_sel[\"imf_pop\"].isna().sum()"
   ]
  },
  {
   "cell_type": "markdown",
   "id": "1d9c2d4d",
   "metadata": {},
   "source": [
    "### 3. Genere una función que liste las observaciones perdidas de una variable (2 puntos)\n",
    "- La función debe contener los siguientes argumentos:\n",
    "    - `dataframe`: La función debe ingresar un objeto DataFrame.\n",
    "    - `var`: Variable a inspeccionar.\n",
    "    - `print_list`: Opción para imprimir la lista de observaciones perdidas en la variable. Debe ser `False` por defecto.\n",
    "    \n",
    "- La función debe retornar la cantidad de casos perdidos y el porcentaje correspondiente.\n",
    "- Cuando `print_list = True`, debe retornar la lista de casos.\n",
    "- Analice todas las variables y sus casos perdidos.\n",
    "- Para las 3 variables con un mayor porcentaje de casos perdidos, solicite la lista de países con ausencia de datos."
   ]
  },
  {
   "cell_type": "code",
   "execution_count": 69,
   "id": "fe70774e",
   "metadata": {},
   "outputs": [],
   "source": [
    "# Utilice esta celda para definir la función solicitada\n",
    "# Tip: dataframe[var].isna()\n",
    "\n",
    "\n",
    "def fetch_null_cases(dataframe, var, print_list=False):\n",
    "    nulos = dataframe[var].isna()\n",
    "    cantidad = nulos.sum()\n",
    "    porcentaje = cantidad / dataframe.shape[0] * 100\n",
    "    casos = []\n",
    "\n",
    "    if print_list:\n",
    "        casos = dataframe[nulos][\"cname\"]\n",
    "        \n",
    "    return cantidad, porcentaje, casos"
   ]
  },
  {
   "cell_type": "code",
   "execution_count": 70,
   "id": "c551a216",
   "metadata": {},
   "outputs": [
    {
     "name": "stdout",
     "output_type": "stream",
     "text": [
      "La columna undp_hdi tiene 4 de casos perdidos, que corresponde al 4.123711340206185\n",
      "La columna ccodealp tiene 0 de casos perdidos, que corresponde al 0.0\n",
      "La columna ht_region tiene 0 de casos perdidos, que corresponde al 0.0\n",
      "La columna gle_cgdpc tiene 0 de casos perdidos, que corresponde al 0.0\n",
      "La columna imf_pop tiene 29 de casos perdidos, que corresponde al 29.896907216494846\n",
      "La columna wef_imort tiene 22 de casos perdidos, que corresponde al 22.68041237113402\n",
      "La columna who_alc2000 tiene 5 de casos perdidos, que corresponde al 5.154639175257731\n",
      "La columna who_tobt tiene 39 de casos perdidos, que corresponde al 40.20618556701031\n",
      "La columna wdi_exph tiene 1 de casos perdidos, que corresponde al 1.0309278350515463\n",
      "La columna cname tiene 0 de casos perdidos, que corresponde al 0.0\n"
     ]
    }
   ],
   "source": [
    "# Utilice esta celda para realizar el llamado para todas las variables, con print_list=False. Puede usar un loop.\n",
    "\n",
    "for c in df_sel.columns:\n",
    "    cantidad, porcentaje, _ = fetch_null_cases(df_sel, c)\n",
    "    print(f\"La columna {c} tiene {cantidad} de casos perdidos, que corresponde al {porcentaje}\")"
   ]
  },
  {
   "cell_type": "code",
   "execution_count": 93,
   "id": "4ef2c62a",
   "metadata": {},
   "outputs": [
    {
     "name": "stdout",
     "output_type": "stream",
     "text": [
      "Paises que tienen nulo la variable who_tobt\n",
      "10                        Bahamas\n",
      "5             Antigua and Barbuda\n",
      "19                       Botswana\n",
      "2                         Algeria\n",
      "146                      St Lucia\n",
      "172                          Togo\n",
      "98                          Libya\n",
      "192                         Yemen\n",
      "52                    El Salvador\n",
      "70                         Guinea\n",
      "148                    San Marino\n",
      "105                      Maldives\n",
      "165                      Suriname\n",
      "99                  Liechtenstein\n",
      "145            St Kitts and Nevis\n",
      "63                         Gambia\n",
      "26                        Burundi\n",
      "169                         Syria\n",
      "61                          Gabon\n",
      "161                      Zimbabwe\n",
      "60                       Djibouti\n",
      "21                         Belize\n",
      "55                        Eritrea\n",
      "69                      Guatemala\n",
      "49                       Dominica\n",
      "114                    Montenegro\n",
      "111                        Monaco\n",
      "83                  Cote d'Ivoire\n",
      "68                        Grenada\n",
      "179                        Tuvalu\n",
      "190                     Venezuela\n",
      "91                         Kuwait\n",
      "41     Congo, Democratic Republic\n",
      "32       Central African Republic\n",
      "53              Equatorial Guinea\n",
      "102                    Madagascar\n",
      "17                        Bolivia\n",
      "178                  Turkmenistan\n",
      "182                     Macedonia\n",
      "Name: cname, dtype: object\n",
      "Paises que tienen nulo la variable imf_pop\n",
      "95                        Lesotho\n",
      "5             Antigua and Barbuda\n",
      "19                       Botswana\n",
      "192                         Yemen\n",
      "52                    El Salvador\n",
      "1                         Albania\n",
      "99                  Liechtenstein\n",
      "76                          India\n",
      "145            St Kitts and Nevis\n",
      "63                         Gambia\n",
      "26                        Burundi\n",
      "169                         Syria\n",
      "193                        Zambia\n",
      "61                          Gabon\n",
      "60                       Djibouti\n",
      "72                          Haiti\n",
      "55                        Eritrea\n",
      "69                      Guatemala\n",
      "49                       Dominica\n",
      "111                        Monaco\n",
      "68                        Grenada\n",
      "190                     Venezuela\n",
      "41     Congo, Democratic Republic\n",
      "32       Central African Republic\n",
      "53              Equatorial Guinea\n",
      "102                    Madagascar\n",
      "178                  Turkmenistan\n",
      "29                       Cameroon\n",
      "3                         Andorra\n",
      "Name: cname, dtype: object\n",
      "Paises que tienen nulo la variable wef_imort\n",
      "10                      Bahamas\n",
      "5           Antigua and Barbuda\n",
      "146                    St Lucia\n",
      "119                       Nauru\n",
      "172                        Togo\n",
      "39                      Comoros\n",
      "148                  San Marino\n",
      "105                    Maldives\n",
      "99                Liechtenstein\n",
      "145          St Kitts and Nevis\n",
      "60                     Djibouti\n",
      "55                      Eritrea\n",
      "49                     Dominica\n",
      "111                      Monaco\n",
      "68                      Grenada\n",
      "66                     Kiribati\n",
      "179                      Tuvalu\n",
      "32     Central African Republic\n",
      "53            Equatorial Guinea\n",
      "173                       Tonga\n",
      "178                Turkmenistan\n",
      "3                       Andorra\n",
      "Name: cname, dtype: object\n"
     ]
    }
   ],
   "source": [
    "# Utilice esta celda para realizar el llamado para las 3 variables con más datos perdidos, mostrando la lista de países con ausencia de datos\n",
    "\n",
    "for v in [\"who_tobt\", \"imf_pop\", \"wef_imort\" ]:\n",
    "    _, _, casos_nulos = fetch_null_cases(df_sel, v, print_list=True)\n",
    "    print(f\"Paises que tienen nulo la variable {v}\")\n",
    "    print(casos_nulos)"
   ]
  },
  {
   "cell_type": "markdown",
   "id": "b565747c",
   "metadata": {},
   "source": [
    "### 4. Grafique histogramas indicando medias muestral y total (2 puntos)\n",
    "- Genere una nueva función que grafique un histograma de una variable entregada para un `DataFrame` de muestra. El gráfico debe además señalar las medias de la variable entregada, tanto para el `DataFrame` de muestra entregado, como para el `DataFrame` completo correspondiente.\n",
    "- La función debe incluir los siguientes argumentos:\n",
    "    - `sample_df`: La base de datos donde se encuentran los datos específicos (muestra).\n",
    "    - `full_df`: La base de datos donde se encuentran todos los datos (contiene los datos de la muestra).\n",
    "    - `var`: La variable a graficar.\n",
    "    - `sample_mean`: Booleano. Si es verdadero, debe generar una recta vertical indicando la media de la variable en la selección muestral (sample_df). Por defecto debe ser False.\n",
    "    - `true_mean`: Booleano. Si es verdadero, debe generar una recta vertical indicando la media de variable en la base de datos completa (full_df).\n",
    "- Realice el llamado a la función para las 4 variables seleccionadas según su grupo."
   ]
  },
  {
   "cell_type": "code",
   "execution_count": 107,
   "id": "8ab40bb6",
   "metadata": {},
   "outputs": [],
   "source": [
    "# Utilice esta celda para definir la función\n",
    "\n",
    "import matplotlib.pyplot as plt\n",
    "\n",
    "def plot_hist(sample_df, full_df, var, sample_mean=False, true_mean=False):\n",
    "    plt.hist(sample_df[var])\n",
    "    plt.title(var)\n",
    "    \n",
    "    if sample_mean:\n",
    "        plt.axvline(sample_df[var].mean(), color=\"blue\", label=\"Primedio muestra\")\n",
    "    if true_mean:\n",
    "        plt.axvline(full_df[var].mean(), color=\"red\", label=\"Primedio todos los datos\")\n",
    "    \n",
    "    plt.legend()"
   ]
  },
  {
   "cell_type": "code",
   "execution_count": 108,
   "id": "ec488c8b",
   "metadata": {},
   "outputs": [
    {
     "data": {
      "text/plain": [
       "Index(['undp_hdi', 'ccodealp', 'ht_region', 'gle_cgdpc', 'imf_pop',\n",
       "       'wef_imort', 'who_alc2000', 'who_tobt', 'wdi_exph', 'cname'],\n",
       "      dtype='object')"
      ]
     },
     "execution_count": 108,
     "metadata": {},
     "output_type": "execute_result"
    }
   ],
   "source": [
    "df_sel.columns"
   ]
  },
  {
   "cell_type": "code",
   "execution_count": 109,
   "id": "db728ada",
   "metadata": {},
   "outputs": [
    {
     "data": {
      "image/png": "[encoded data removed]",
      "text/plain": [
       "<Figure size 432x288 with 1 Axes>"
      ]
     },
     "metadata": {
      "needs_background": "light"
     },
     "output_type": "display_data"
    }
   ],
   "source": [
    "# Utilice esta celda para realizar el llamado para la primera variable\n",
    "\n",
    "plot_hist(df_sel, df, \"wef_imort\", True, True)"
   ]
  },
  {
   "cell_type": "code",
   "execution_count": 110,
   "id": "4b6b83e5",
   "metadata": {},
   "outputs": [
    {
     "data": {
      "image/png": "[encoded data removed]",
      "text/plain": [
       "<Figure size 432x288 with 1 Axes>"
      ]
     },
     "metadata": {
      "needs_background": "light"
     },
     "output_type": "display_data"
    }
   ],
   "source": [
    "# Utilice esta celda para realizar el llamado para la segunda variable\n",
    "plot_hist(df_sel, df, \"who_alc2000\", True, True)"
   ]
  },
  {
   "cell_type": "code",
   "execution_count": 111,
   "id": "550f7276",
   "metadata": {},
   "outputs": [
    {
     "data": {
      "image/png": "[encoded data removed]",
      "text/plain": [
       "<Figure size 432x288 with 1 Axes>"
      ]
     },
     "metadata": {
      "needs_background": "light"
     },
     "output_type": "display_data"
    }
   ],
   "source": [
    "# Utilice esta celda para realizar el llamado para la tercera variable\n",
    "plot_hist(df_sel, df, 'who_tobt', True, True)"
   ]
  },
  {
   "cell_type": "code",
   "execution_count": 112,
   "id": "490628fd",
   "metadata": {},
   "outputs": [
    {
     "data": {
      "image/png": "[encoded data removed]",
      "text/plain": [
       "<Figure size 432x288 with 1 Axes>"
      ]
     },
     "metadata": {
      "needs_background": "light"
     },
     "output_type": "display_data"
    }
   ],
   "source": [
    "# Utiliza esta celda para realizar el llamado para la cuarta variable\n",
    "plot_hist(df_sel, df,'wdi_exph', True, True)"
   ]
  },
  {
   "cell_type": "markdown",
   "id": "fb0e23a7",
   "metadata": {},
   "source": [
    "**¿En qué variables la media de la muestra es mayor a la de los datos completos?**\n",
    "\n",
    "**Respuesta:** Se aprecia que la media de la muestra es mayor en la variable, columna o serie \"wef_imort\"."
   ]
  },
  {
   "cell_type": "markdown",
   "id": "b807d793",
   "metadata": {},
   "source": [
    "### 5. Genere una función que devuelva un dotplot con las medias por región para una variable entregada (2 puntos)\n",
    "- Cada \"punto\" del `dotplot` debe representar la media, o mediana, de una variable, para una región específica.\n",
    "- La función debe contener los siguientes parámetros:\n",
    "    - `dataframe`: La tabla de datos donde buscar las variables.\n",
    "    - `plot_var`: Corresponde a una columna del dataframe entregado, de la cual se desea obtener la métrica (puede ser media o mediana).\n",
    "    - `plot_by`: Corresponde a otra columna del dataframe entregado. Es la columna por la cual se quiere agrupar el dataframe, para acceder luego a la columna entregada en plot_var. _**Tip**_: Revise el uso del método `groupby` de `pandas`.\n",
    "    - `statistic`: Debe presentar dos opciones; \"mean\" para la media y \"median\" para la mediana. Por defecto debe ser \"mean\".\n",
    "    - `global_stat`: Booleano. Si es True, debe graficar la media (o mediana, según lo indicado en statistic) de la variable plot_var entregada, sin agrupar (para todos los datos entregados en dataframe). Por defecto debe ser `False`.\n",
    "\n",
    "- Utilice la función en las 3 variables con una menor cantidad de datos perdidos."
   ]
  },
  {
   "cell_type": "code",
   "execution_count": 119,
   "id": "fd5ddabd",
   "metadata": {},
   "outputs": [],
   "source": [
    "# Utilice esta celda para definir la función\n",
    "\n",
    "def dotplot(dataframe, plot_var, plot_by, statistic=\"mean\", global_stat=False):\n",
    "    agrupacion = dataframe.groupby(plot_by)[plot_var]\n",
    "    valores_grafico = []\n",
    "    \n",
    "    if statistic == \"mean\":\n",
    "        valores_grafico = agrupacion.mean()\n",
    "    \n",
    "    elif statistic == \"median\":\n",
    "        valores_grafico = agrupacion.median()\n",
    "    \n",
    "    plt.plot(valores_grafico.values, valores_grafico.index, \"o\")\n",
    "    \n",
    "    if global_stat and statistic == \"mean\":\n",
    "        plt.axvline(dataframe[plot_var].mean(), label=\"Promedio general\")\n",
    "        \n",
    "    elif global_stat and statistic == \"median\":\n",
    "        plt.axvline(dataframe[plot_var].median(), label=\"Mediana general\")\n",
    "        \n",
    "    plt.legend()\n",
    "\n"
   ]
  },
  {
   "cell_type": "code",
   "execution_count": 117,
   "id": "0ad2c56f",
   "metadata": {},
   "outputs": [],
   "source": [
    "#gle_cgdpc, undp_hdi, imf_pop."
   ]
  },
  {
   "cell_type": "code",
   "execution_count": 120,
   "id": "ddb7ff58",
   "metadata": {},
   "outputs": [
    {
     "data": {
      "image/png": "[encoded data removed]",
      "text/plain": [
       "<Figure size 432x288 with 1 Axes>"
      ]
     },
     "metadata": {
      "needs_background": "light"
     },
     "output_type": "display_data"
    }
   ],
   "source": [
    "# Utilice esta celda para realizar el llamado para la primera variable\n",
    "dotplot(df_sel, 'imf_pop', \"ht_region\", statistic=\"mean\", global_stat=True)"
   ]
  },
  {
   "cell_type": "code",
   "execution_count": 121,
   "id": "a2586f89",
   "metadata": {},
   "outputs": [
    {
     "data": {
      "image/png": "[encoded data removed]",
      "text/plain": [
       "<Figure size 432x288 with 1 Axes>"
      ]
     },
     "metadata": {
      "needs_background": "light"
     },
     "output_type": "display_data"
    }
   ],
   "source": [
    "# Utilice esta celda para realizar el llamado para la segunda variable\n",
    "dotplot(df_sel, 'undp_hdi', \"ht_region\", statistic=\"mean\", global_stat=True)"
   ]
  },
  {
   "cell_type": "code",
   "execution_count": 122,
   "id": "a43e2ee4",
   "metadata": {},
   "outputs": [
    {
     "data": {
      "image/png": "[encoded data removed]",
      "text/plain": [
       "<Figure size 432x288 with 1 Axes>"
      ]
     },
     "metadata": {
      "needs_background": "light"
     },
     "output_type": "display_data"
    }
   ],
   "source": [
    "# Utilice esta celda para realizar el llamado para la tercera variable\n",
    "dotplot(df_sel, 'gle_cgdpc', \"ht_region\", statistic=\"mean\", global_stat=True)"
   ]
  },
  {
   "cell_type": "markdown",
   "id": "a74ee436",
   "metadata": {},
   "source": [
    "### 6. Guarde la base de datos (1 punto)\n",
    "- La submuestra creada tiene un método llamado `to_csv()`. Acceda a éste y guarde la base de datos con la siguiente nomenclatura:\n",
    "    - `subsample_<iniciales>_demo.csv`\n",
    "\n",
    "- Subir el archivo generado a la plataforma, junto al desafío"
   ]
  },
  {
   "cell_type": "code",
   "execution_count": 124,
   "id": "4eba535b",
   "metadata": {},
   "outputs": [],
   "source": [
    "# Utilice esta celda para realizar el guardado del dataframe\n",
    "df_sel.to_csv(\"subsample_RS_demo.csv\", index=False)"
   ]
  },
  {
   "cell_type": "code",
   "execution_count": null,
   "id": "1843172c",
   "metadata": {},
   "outputs": [],
   "source": []
  }
 ],
 "metadata": {
  "kernelspec": {
   "display_name": "Python 3 (ipykernel)",
   "language": "python",
   "name": "python3"
  },
  "language_info": {
   "codemirror_mode": {
    "name": "ipython",
    "version": 3
   },
   "file_extension": ".py",
   "mimetype": "text/x-python",
   "name": "python",
   "nbconvert_exporter": "python",
   "pygments_lexer": "ipython3",
   "version": "3.9.7"
  }
 },
 "nbformat": 4,
 "nbformat_minor": 5
}
